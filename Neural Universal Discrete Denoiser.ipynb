{
 "cells": [
  {
   "cell_type": "markdown",
   "metadata": {},
   "source": [
    "# Neural Universal Discrete Denosier"
   ]
  },
  {
   "cell_type": "markdown",
   "metadata": {},
   "source": [
    "##### Tasup Moon\n",
    "\n",
    "##### Seonwoo Min, Byunghan Lee, Sungroh Yoon"
   ]
  },
  {
   "cell_type": "markdown",
   "metadata": {},
   "source": [
    "## Abstract"
   ]
  },
  {
   "cell_type": "markdown",
   "metadata": {},
   "source": [
    " - we presnet a new framework of applying deep neural networks (DNN) to devise a universal discrete denoiser.\n",
    " - 우리는 DNN을 활용하여 보편적인 이산형의 노이즈 제거를 위한 새로운 프레임 워크를 구축한다.\n",
    " \n",
    " \n",
    " - Unlike other approaches that utilize superviesd learning for denoising, we do not require any addtional training data.\n",
    " - 노이즈 제거를 위해 지도 학습 방법을 사용하던 접근법과 달리, 새로운 프레임 워크는 추가적인 훈련 데이터를 필요로 하지 않는다.\n",
    " \n",
    " \n",
    " - In such setting, while the ground-truth label, i.e, the clean data, is not available, we devise \"presudo-labels\" and o novel objective function such that DNN can be trained in a same way as supervised learning to become a discrete denoiser.\n",
    " \n",
    " \n",
    " - We experimentally show that our resulting alogrithm, dubbed as Nerual DUDE, significantly outperforms the previous state-of-the-art in serval applications with a systematic rule of choosing the hyperparameter, which is an attractive feature in practice"
   ]
  },
  {
   "cell_type": "markdown",
   "metadata": {},
   "source": [
    "## 1 &nbsp; Introduction"
   ]
  },
  {
   "cell_type": "markdown",
   "metadata": {},
   "source": [
    " - Claning noise-corrupted data, i.e., denoising, is a ubiquotous problem in signal processing and machine learning.\n",
    " \n",
    " \n",
    " - Discrete denoising, in particular, focuses on the cases in which both the underlying clean and noisy data take their values in some finite set.\n",
    " \n",
    " \n",
    " - Such setting covers several applications in different domians, such as image denoising [1,2], DNA sequence denoising [3], and channel decoding [4]."
   ]
  },
  {
   "cell_type": "markdown",
   "metadata": {},
   "source": [
    " - A conventional approach for addressing the denoising problem is the Bayesian approach, which cna often yield a computationally efficient algorithm with reasonable performance.\n",
    " \n",
    " \n",
    " - However, limitations can arise when the assumed stochastic models do not accurately reflect the real data distribution.\n",
    " \n",
    "\n",
    " - Particularly, while the models for the noise can often be obtained relatively reliably, obtaining the accurate model for the original clean data is mort tricky; the model for the clean data may be wrong, changing, or may not exist at all. "
   ]
  },
  {
   "cell_type": "markdown",
   "metadata": {},
   "source": [
    " - In order to alleviate the above mentioned limitations, [5] proposed a universal approach for discrete denoising.\n",
    " \n",
    " \n",
    " - Namely, the first considered a gnenral setting that the clean finite-valued source symbols are corrupted by a discrete memoryless channel (DMC), a noise mechanism that corrupts each source symbol indeoendently and statistically identically.\n",
    " \n",
    " \n",
    " - Then, they deviesed an algorithm called DUDE(DIscrete Universal DEnoiser) and showed regirious preformance guarantees for the *semi-stochastic setting;* namely, that where no stochatic modeling assumptions are mate on the underlying source data, while the corruption mechanism is assumed to be governed by a *known* DMC.\n",
    " \n",
    " \n",
    " - DUDE is shown to *universally* attain the optimum denoising performance for any source data as the data size grows."
   ]
  },
  {
   "cell_type": "markdown",
   "metadata": {},
   "source": [
    " - In addition to the strong theoretical performance gurantee, DUDE cna be implemented as a computaionally efficient sliding window deniser; hance, it has been successfully applied and extended to some practical applications, e.g., [1,3,4,2].\n",
    " \n",
    " \n",
    " - However, it also had limitations; namely, the performance is sensitive on the choice of sliding window size *k*, becomes large and the alphabet size of the signal increased, DUDE, suffers from the data sparisty problem, which significantly deteriorates the performance."
   ]
  },
  {
   "cell_type": "markdown",
   "metadata": {},
   "source": [
    " - In this paper, we present a novel framework of addressing above limitations of DUDE by adopting the machinerire of deep neural networks (DNN) [6], which recently have seen great empirical success in many practical applications.\n",
    " \n",
    " \n",
    " - While there have been some previous attempts of applying neural networks to grayscale image denosing [7,8], they all remained in supervised larning setting. i.e., large-scale training data that the consists of clean and noisy image pairs was necessary.\n",
    " \n",
    " \n",
    " - Such approach requres significant computation resources and training time and is not always transferable to other denoising applications, in which collecting massive training data is often expensive, e.g., DNA sequence denosing [9]"
   ]
  },
  {
   "cell_type": "markdown",
   "metadata": {},
   "source": [
    " - Henceforth,"
   ]
  },
  {
   "cell_type": "markdown",
   "metadata": {},
   "source": [
    "## 2 &nbsp; Notations and related work"
   ]
  },
  {
   "cell_type": "markdown",
   "metadata": {},
   "source": [
    "### 2.1 &nbsp; Problem setting of discrete denosing"
   ]
  },
  {
   "cell_type": "markdown",
   "metadata": {},
   "source": [
    " - Throughout this paper, we will generally"
   ]
  }
 ],
 "metadata": {
  "kernelspec": {
   "display_name": "Python 3",
   "language": "python",
   "name": "python3"
  },
  "language_info": {
   "codemirror_mode": {
    "name": "ipython",
    "version": 3
   },
   "file_extension": ".py",
   "mimetype": "text/x-python",
   "name": "python",
   "nbconvert_exporter": "python",
   "pygments_lexer": "ipython3",
   "version": "3.6.7"
  }
 },
 "nbformat": 4,
 "nbformat_minor": 2
}
